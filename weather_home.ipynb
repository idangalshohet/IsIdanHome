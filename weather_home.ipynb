{
 "cells": [
  {
   "cell_type": "code",
   "execution_count": 70,
   "metadata": {},
   "outputs": [],
   "source": [
    "import gspread\n",
    "import pandas as pd \n",
    "from oauth2client.service_account import ServiceAccountCredentials\n",
    "import numpy\n",
    "import matplotlib\n",
    "import matplotlib.pyplot as plt\n",
    "import seaborn as sns\n",
    "import time\n",
    "import numpy as np\n",
    "\n",
    "credentials = {\n",
    "}\n",
    "\n",
    "scope = [\"https://spreadsheets.google.com/feeds\",'https://www.googleapis.com/auth/spreadsheets',\"https://www.googleapis.com/auth/drive.file\",\"https://www.googleapis.com/auth/drive\"]\n",
    "creds = ServiceAccountCredentials.from_json_keyfile_dict(credentials, scope)\n",
    "client = gspread.authorize(creds)"
   ]
  },
  {
   "cell_type": "code",
   "execution_count": 71,
   "metadata": {},
   "outputs": [],
   "source": [
    "sheet = client.open(\"IoT Cloud\")\n",
    "\n",
    "home_sheet = sheet.worksheet(\"Home\")\n",
    "door_sheet = sheet.worksheet(\"Door\")\n",
    "weather_sheet = sheet.worksheet(\"Weather\")"
   ]
  },
  {
   "cell_type": "code",
   "execution_count": 72,
   "metadata": {},
   "outputs": [
    {
     "name": "stdout",
     "output_type": "stream",
     "text": [
      " start  2021-12-07 00:01:53\n"
     ]
    }
   ],
   "source": [
    "home = pd.DataFrame(home_sheet.get_all_values())\n",
    "home.columns = [\"Year\", \"Month\", \"Day\", \"Hour\", \"Minute\", \"Home State\", \"Timestamp\"]\n",
    "home = home.sort_values(by='Timestamp')\n",
    "print(' start ', time.strftime('%Y-%m-%d %H:%M:%S', time.localtime(int(home['Timestamp'].iloc[0]))))\n",
    "\n",
    "home['Timestamp'] = pd.to_datetime(home['Timestamp'], unit ='s') # convert column to datetime object\n",
    "home['Timestamp'] = home['Timestamp'].dt.floor('min')\n",
    "home = home.set_index(home['Timestamp'])\n",
    "home = home.drop(columns=[\"Year\", \"Month\", \"Day\", \"Minute\", \"Hour\", \"Timestamp\"])\n",
    "\n",
    "\n",
    "weather = pd.DataFrame(weather_sheet.get_all_values())\n",
    "weather.columns = [\"Year\", \"Month\", \"Day\", \"Hour\", \"Minute\", \"Temperature\", \"Conditon\", \"Timestamp\"]\n",
    "weather = weather.sort_values(by='Timestamp')\n",
    "\n",
    "weather['Timestamp'] = pd.to_datetime(weather['Timestamp'], unit ='s') # convert column to datetime object\n",
    "weather['Timestamp'] = weather['Timestamp'].dt.floor('min')\n",
    "weather = weather.set_index(weather['Timestamp'])\n",
    "weather = weather.drop(columns=[\"Year\", \"Month\", \"Day\", \"Hour\", \"Minute\", \"Timestamp\"])"
   ]
  },
  {
   "cell_type": "code",
   "execution_count": 73,
   "metadata": {},
   "outputs": [],
   "source": [
    "w = weather.loc['2021-12-07':'2021-12-10']\n",
    "h = home.loc['2021-12-07':'2021-12-10']\n",
    "h= h.astype(str).astype(int)\n"
   ]
  },
  {
   "cell_type": "code",
   "execution_count": 74,
   "metadata": {},
   "outputs": [
    {
     "data": {
      "text/html": [
       "<div>\n",
       "<style scoped>\n",
       "    .dataframe tbody tr th:only-of-type {\n",
       "        vertical-align: middle;\n",
       "    }\n",
       "\n",
       "    .dataframe tbody tr th {\n",
       "        vertical-align: top;\n",
       "    }\n",
       "\n",
       "    .dataframe thead th {\n",
       "        text-align: right;\n",
       "    }\n",
       "</style>\n",
       "<table border=\"1\" class=\"dataframe\">\n",
       "  <thead>\n",
       "    <tr style=\"text-align: right;\">\n",
       "      <th></th>\n",
       "      <th>Temperature</th>\n",
       "      <th>Conditon</th>\n",
       "    </tr>\n",
       "    <tr>\n",
       "      <th>Timestamp</th>\n",
       "      <th></th>\n",
       "      <th></th>\n",
       "    </tr>\n",
       "  </thead>\n",
       "  <tbody>\n",
       "    <tr>\n",
       "      <th>2021-12-10 23:26:00</th>\n",
       "      <td>3.42</td>\n",
       "      <td>Clear</td>\n",
       "    </tr>\n",
       "    <tr>\n",
       "      <th>2021-12-10 23:27:00</th>\n",
       "      <td>3.42</td>\n",
       "      <td>Clear</td>\n",
       "    </tr>\n",
       "    <tr>\n",
       "      <th>2021-12-10 23:28:00</th>\n",
       "      <td>3.42</td>\n",
       "      <td>Clear</td>\n",
       "    </tr>\n",
       "    <tr>\n",
       "      <th>2021-12-10 23:29:00</th>\n",
       "      <td>3.42</td>\n",
       "      <td>Clear</td>\n",
       "    </tr>\n",
       "    <tr>\n",
       "      <th>2021-12-10 23:30:00</th>\n",
       "      <td>2.76</td>\n",
       "      <td>Clear</td>\n",
       "    </tr>\n",
       "  </tbody>\n",
       "</table>\n",
       "</div>"
      ],
      "text/plain": [
       "                    Temperature Conditon\n",
       "Timestamp                               \n",
       "2021-12-10 23:26:00        3.42    Clear\n",
       "2021-12-10 23:27:00        3.42    Clear\n",
       "2021-12-10 23:28:00        3.42    Clear\n",
       "2021-12-10 23:29:00        3.42    Clear\n",
       "2021-12-10 23:30:00        2.76    Clear"
      ]
     },
     "execution_count": 74,
     "metadata": {},
     "output_type": "execute_result"
    }
   ],
   "source": [
    "w = w.resample('T').pad()\n",
    "w.tail()"
   ]
  },
  {
   "cell_type": "code",
   "execution_count": 75,
   "metadata": {},
   "outputs": [
    {
     "data": {
      "text/html": [
       "<div>\n",
       "<style scoped>\n",
       "    .dataframe tbody tr th:only-of-type {\n",
       "        vertical-align: middle;\n",
       "    }\n",
       "\n",
       "    .dataframe tbody tr th {\n",
       "        vertical-align: top;\n",
       "    }\n",
       "\n",
       "    .dataframe thead th {\n",
       "        text-align: right;\n",
       "    }\n",
       "</style>\n",
       "<table border=\"1\" class=\"dataframe\">\n",
       "  <thead>\n",
       "    <tr style=\"text-align: right;\">\n",
       "      <th></th>\n",
       "      <th>Home State</th>\n",
       "    </tr>\n",
       "    <tr>\n",
       "      <th>Timestamp</th>\n",
       "      <th></th>\n",
       "    </tr>\n",
       "  </thead>\n",
       "  <tbody>\n",
       "    <tr>\n",
       "      <th>2021-12-07 00:00:00</th>\n",
       "      <td>29</td>\n",
       "    </tr>\n",
       "    <tr>\n",
       "      <th>2021-12-07 01:00:00</th>\n",
       "      <td>33</td>\n",
       "    </tr>\n",
       "    <tr>\n",
       "      <th>2021-12-07 02:00:00</th>\n",
       "      <td>28</td>\n",
       "    </tr>\n",
       "    <tr>\n",
       "      <th>2021-12-07 03:00:00</th>\n",
       "      <td>21</td>\n",
       "    </tr>\n",
       "    <tr>\n",
       "      <th>2021-12-07 04:00:00</th>\n",
       "      <td>30</td>\n",
       "    </tr>\n",
       "  </tbody>\n",
       "</table>\n",
       "</div>"
      ],
      "text/plain": [
       "                     Home State\n",
       "Timestamp                      \n",
       "2021-12-07 00:00:00          29\n",
       "2021-12-07 01:00:00          33\n",
       "2021-12-07 02:00:00          28\n",
       "2021-12-07 03:00:00          21\n",
       "2021-12-07 04:00:00          30"
      ]
     },
     "execution_count": 75,
     "metadata": {},
     "output_type": "execute_result"
    }
   ],
   "source": [
    "hh = h.resample('H').sum()\n",
    "hh.head()"
   ]
  },
  {
   "cell_type": "markdown",
   "metadata": {},
   "source": []
  },
  {
   "cell_type": "code",
   "execution_count": 76,
   "metadata": {},
   "outputs": [
    {
     "data": {
      "text/html": [
       "<div>\n",
       "<style scoped>\n",
       "    .dataframe tbody tr th:only-of-type {\n",
       "        vertical-align: middle;\n",
       "    }\n",
       "\n",
       "    .dataframe tbody tr th {\n",
       "        vertical-align: top;\n",
       "    }\n",
       "\n",
       "    .dataframe thead th {\n",
       "        text-align: right;\n",
       "    }\n",
       "</style>\n",
       "<table border=\"1\" class=\"dataframe\">\n",
       "  <thead>\n",
       "    <tr style=\"text-align: right;\">\n",
       "      <th></th>\n",
       "      <th>Home State</th>\n",
       "    </tr>\n",
       "    <tr>\n",
       "      <th>Timestamp</th>\n",
       "      <th></th>\n",
       "    </tr>\n",
       "  </thead>\n",
       "  <tbody>\n",
       "    <tr>\n",
       "      <th>2021-12-07 00:00:00</th>\n",
       "      <td>1</td>\n",
       "    </tr>\n",
       "    <tr>\n",
       "      <th>2021-12-07 01:00:00</th>\n",
       "      <td>1</td>\n",
       "    </tr>\n",
       "    <tr>\n",
       "      <th>2021-12-07 02:00:00</th>\n",
       "      <td>1</td>\n",
       "    </tr>\n",
       "    <tr>\n",
       "      <th>2021-12-07 03:00:00</th>\n",
       "      <td>1</td>\n",
       "    </tr>\n",
       "    <tr>\n",
       "      <th>2021-12-07 04:00:00</th>\n",
       "      <td>1</td>\n",
       "    </tr>\n",
       "  </tbody>\n",
       "</table>\n",
       "</div>"
      ],
      "text/plain": [
       "                     Home State\n",
       "Timestamp                      \n",
       "2021-12-07 00:00:00           1\n",
       "2021-12-07 01:00:00           1\n",
       "2021-12-07 02:00:00           1\n",
       "2021-12-07 03:00:00           1\n",
       "2021-12-07 04:00:00           1"
      ]
     },
     "execution_count": 76,
     "metadata": {},
     "output_type": "execute_result"
    }
   ],
   "source": [
    "hh[\"Home State\"] = (hh[\"Home State\"] > 0).astype(int)\n",
    "\n",
    "hh.head()"
   ]
  },
  {
   "cell_type": "code",
   "execution_count": 77,
   "metadata": {},
   "outputs": [],
   "source": [
    "merge=pd.merge(h,w, how='inner', left_index=True, right_index=True)\n",
    "merge[\"Home State\"] = merge[\"Home State\"].astype(str).astype(int)\n",
    "merge[\"Temperature\"] = merge[\"Temperature\"].astype(str).astype(float)"
   ]
  },
  {
   "cell_type": "code",
   "execution_count": 78,
   "metadata": {},
   "outputs": [
    {
     "data": {
      "text/html": [
       "<div>\n",
       "<style scoped>\n",
       "    .dataframe tbody tr th:only-of-type {\n",
       "        vertical-align: middle;\n",
       "    }\n",
       "\n",
       "    .dataframe tbody tr th {\n",
       "        vertical-align: top;\n",
       "    }\n",
       "\n",
       "    .dataframe thead th {\n",
       "        text-align: right;\n",
       "    }\n",
       "</style>\n",
       "<table border=\"1\" class=\"dataframe\">\n",
       "  <thead>\n",
       "    <tr style=\"text-align: right;\">\n",
       "      <th></th>\n",
       "      <th>Home State</th>\n",
       "      <th>Temperature</th>\n",
       "      <th>Conditon</th>\n",
       "    </tr>\n",
       "    <tr>\n",
       "      <th>Timestamp</th>\n",
       "      <th></th>\n",
       "      <th></th>\n",
       "      <th></th>\n",
       "    </tr>\n",
       "  </thead>\n",
       "  <tbody>\n",
       "    <tr>\n",
       "      <th>2021-12-07 00:21:00</th>\n",
       "      <td>0</td>\n",
       "      <td>2.76</td>\n",
       "      <td>Clouds</td>\n",
       "    </tr>\n",
       "    <tr>\n",
       "      <th>2021-12-07 00:22:00</th>\n",
       "      <td>1</td>\n",
       "      <td>2.76</td>\n",
       "      <td>Clouds</td>\n",
       "    </tr>\n",
       "    <tr>\n",
       "      <th>2021-12-07 00:24:00</th>\n",
       "      <td>1</td>\n",
       "      <td>2.76</td>\n",
       "      <td>Clouds</td>\n",
       "    </tr>\n",
       "    <tr>\n",
       "      <th>2021-12-07 00:25:00</th>\n",
       "      <td>1</td>\n",
       "      <td>2.76</td>\n",
       "      <td>Clouds</td>\n",
       "    </tr>\n",
       "    <tr>\n",
       "      <th>2021-12-07 00:26:00</th>\n",
       "      <td>1</td>\n",
       "      <td>2.76</td>\n",
       "      <td>Clouds</td>\n",
       "    </tr>\n",
       "  </tbody>\n",
       "</table>\n",
       "</div>"
      ],
      "text/plain": [
       "                     Home State  Temperature Conditon\n",
       "Timestamp                                            \n",
       "2021-12-07 00:21:00           0         2.76   Clouds\n",
       "2021-12-07 00:22:00           1         2.76   Clouds\n",
       "2021-12-07 00:24:00           1         2.76   Clouds\n",
       "2021-12-07 00:25:00           1         2.76   Clouds\n",
       "2021-12-07 00:26:00           1         2.76   Clouds"
      ]
     },
     "execution_count": 78,
     "metadata": {},
     "output_type": "execute_result"
    }
   ],
   "source": [
    "merge.head()"
   ]
  },
  {
   "cell_type": "code",
   "execution_count": 79,
   "metadata": {},
   "outputs": [
    {
     "name": "stdout",
     "output_type": "stream",
     "text": [
      "<class 'pandas.core.frame.DataFrame'>\n",
      "DatetimeIndex: 5067 entries, 2021-12-07 00:21:00 to 2021-12-10 23:30:00\n",
      "Data columns (total 3 columns):\n",
      " #   Column       Non-Null Count  Dtype  \n",
      "---  ------       --------------  -----  \n",
      " 0   Home State   5067 non-null   int64  \n",
      " 1   Temperature  5067 non-null   float64\n",
      " 2   Conditon     5067 non-null   object \n",
      "dtypes: float64(1), int64(1), object(1)\n",
      "memory usage: 158.3+ KB\n"
     ]
    }
   ],
   "source": [
    "merge.info()"
   ]
  },
  {
   "cell_type": "code",
   "execution_count": 80,
   "metadata": {},
   "outputs": [
    {
     "name": "stdout",
     "output_type": "stream",
     "text": [
      "The sizes for train, test, and validation should be (4053, 507, 507)\n"
     ]
    }
   ],
   "source": [
    "from sklearn.model_selection import train_test_split\n",
    "\n",
    "train, other = train_test_split(merge, test_size=0.2, random_state=0)\n",
    "\n",
    "test, validation = train_test_split(other, test_size=0.5, random_state=0)\n",
    "\n",
    "print('The sizes for train, test, and validation should be {}'.format((len(train), len(validation), len(test))))"
   ]
  },
  {
   "cell_type": "code",
   "execution_count": 29,
   "metadata": {},
   "outputs": [
    {
     "name": "stdout",
     "output_type": "stream",
     "text": [
      "5135\n",
      "1728\n",
      "3407\n"
     ]
    },
    {
     "data": {
      "text/plain": [
       "3456"
      ]
     },
     "execution_count": 29,
     "metadata": {},
     "output_type": "execute_result"
    }
   ],
   "source": [
    "#BALANCING DATASET \n",
    "\n",
    "import pandas as pd\n",
    "from sklearn.linear_model import LogisticRegression\n",
    " \n",
    "total = len(train)\n",
    "print(total)\n",
    "nb_pos = train['Home State'].sum()\n",
    "print(nb_pos)\n",
    "nb_neg = total - nb_pos\n",
    "print(nb_neg)\n",
    " \n",
    "\n",
    "home_true = train.loc[train['Home State'] == 1]\n",
    "home_false = train.loc[train['Home State'] == 0].sample(nb_pos)\n",
    "TrainBalanced= pd.concat((home_true, home_false))\n",
    "\n",
    "len(TrainBalanced) \n",
    "\n",
    "#### Home Balanced"
   ]
  },
  {
   "cell_type": "code",
   "execution_count": 105,
   "metadata": {},
   "outputs": [],
   "source": [
    "from scipy import stats\n",
    "import numpy as np\n",
    "import pandas as pd\n",
    "from sklearn.metrics import confusion_matrix, accuracy_score\n",
    "from sklearn.metrics import accuracy_score,precision_score,recall_score\n",
    "\n",
    "class ModelSummary:\n",
    "    \"\"\" This class extracts a summary of the model\n",
    "    \n",
    "    Methods\n",
    "    -------\n",
    "    get_se()\n",
    "        computes standard error\n",
    "    get_ci(SE_est)\n",
    "        computes confidence intervals\n",
    "    get_pvals()\n",
    "        computes p-values\n",
    "    get_summary(name=None)\n",
    "        prints the summary of the model\n",
    "    \"\"\"\n",
    "    \n",
    "    def __init__(self, clf, X, y):\n",
    "        \"\"\"\n",
    "        Parameters\n",
    "        ----------\n",
    "        clf: class\n",
    "            the classifier object model\n",
    "        X: pandas Dataframe\n",
    "            matrix of predictors\n",
    "        y: numpy array\n",
    "            matrix of variable\n",
    "        \"\"\"\n",
    "        self.clf = clf\n",
    "        self.X = X\n",
    "        self.y = y\n",
    "        pass\n",
    "    \n",
    "    def get_se(self):\n",
    "        # from here https://stats.stackexchange.com/questions/89484/how-to-compute-the-standard-errors-of-a-logistic-regressions-coefficients\n",
    "        predProbs = self.clf.predict_proba(self.X)\n",
    "        X_design = np.hstack([np.ones((self.X.shape[0], 1)), self.X])\n",
    "        V = np.diagflat(np.product(predProbs, axis=1))\n",
    "        covLogit = np.linalg.inv(np.dot(np.dot(X_design.T, V), X_design))\n",
    "        return np.sqrt(np.diag(covLogit))\n",
    "\n",
    "    def get_ci(self, SE_est):\n",
    "        \"\"\"\n",
    "        Parameters\n",
    "        ----------\n",
    "        SE_est: numpy array\n",
    "            matrix of standard error estimations\n",
    "        \"\"\"\n",
    "        p = 0.975\n",
    "        df = len(self.X) - 2\n",
    "        crit_t_value = stats.t.ppf(p, df)\n",
    "        coefs = np.concatenate([self.clf.intercept_, self.clf.coef_[0]])\n",
    "        upper = coefs + (crit_t_value * SE_est)\n",
    "        lower = coefs - (crit_t_value * SE_est)\n",
    "        cis = np.zeros((len(coefs), 2))\n",
    "        cis[:,0] = lower\n",
    "        cis[:,1] = upper\n",
    "        return cis\n",
    "    \n",
    "    def get_pvals(self):\n",
    "        # from here https://stackoverflow.com/questions/25122999/scikit-learn-how-to-check-coefficients-significance\n",
    "        p = self.clf.predict_proba(self.X)\n",
    "        n = len(p)\n",
    "        m = len(self.clf.coef_[0]) + 1\n",
    "        coefs = np.concatenate([self.clf.intercept_, self.clf.coef_[0]])\n",
    "        se = self.get_se()\n",
    "        t =  coefs/se  \n",
    "        p = (1 - stats.norm.cdf(abs(t))) * 2\n",
    "        return p\n",
    "    \n",
    "    def get_summary(self, names=None):\n",
    "        ses = self.get_se()\n",
    "        cis = self.get_ci(ses)\n",
    "        lower = cis[:, 0]\n",
    "        upper = cis[:, 1]\n",
    "        pvals = self.get_pvals()\n",
    "        coefs = np.concatenate([self.clf.intercept_, self.clf.coef_[0]])\n",
    "        data = []\n",
    "        for i in range(len(coefs)):\n",
    "            currlist = []\n",
    "            currlist.append(np.round(coefs[i], 3))\n",
    "            currlist.append(np.round(ses[i], 3))\n",
    "            currlist.append(np.round(pvals[i], 3))\n",
    "            currlist.append(np.round(lower[i], 3))\n",
    "            currlist.append(np.round(upper[i], 3))\n",
    "            data.append(currlist)\n",
    "        cols = ['coefficient', 'std', 'p-value', '[0.025', '0.975]']\n",
    "        sumdf = pd.DataFrame(columns=cols, data=data)\n",
    "        if names is not None:\n",
    "            new_names = ['intercept']*(len(names) + 1)\n",
    "            new_names[1:] = [i for i in names]\n",
    "            sumdf.index = new_names\n",
    "        else:\n",
    "            try:\n",
    "                names = list(self.X.columns)\n",
    "                new_names = ['intercept']*(len(names) + 1)\n",
    "                new_names[1:] = [i for i in names]\n",
    "                sumdf.index = new_names\n",
    "            except:\n",
    "                pass\n",
    "        print(sumdf)\n",
    "        acc = (accuracy_score(self.y, self.clf.predict(self.X)) + recall_score(self.y, self.clf.predict(self.X)))/2\n",
    "        #acc = accuracy_score(self.y, self.clf.predict(self.X))\n",
    "        confmat = confusion_matrix(self.y, self.clf.predict(self.X))\n",
    "        print('-'*60)\n",
    "        print('Confusion Matrix (total:{}) \\t Accuracy: \\t  {}'.format(len(self.X),np.round(acc, 3)))\n",
    "        print('  TP: {} | FN: {}'.format(confmat[1][1],confmat[1][0]))\n",
    "        print('  FP: {} | TN: {}'.format(confmat[0][1],confmat[0][0]))"
   ]
  },
  {
   "cell_type": "code",
   "execution_count": 109,
   "metadata": {},
   "outputs": [
    {
     "name": "stdout",
     "output_type": "stream",
     "text": [
      "======= Accuracy  table =======\n",
      "Training recall is:    0.15\n",
      "Validation recall is:  0.0\n",
      "Validation accuracy is:  0.7777777777777778\n",
      "precision accuracy is:  0.0\n",
      "training weighted accuracy is:  0.43529411764705883\n",
      "validation weighted accuracy is:  0.3888888888888889\n",
      "test weighted accuracy is:    0.6875\n"
     ]
    }
   ],
   "source": [
    "#Random Select\n",
    "\n",
    "import warnings\n",
    "warnings.filterwarnings(\"ignore\")\n",
    "\n",
    "w = weather.loc[:'2021-12-10']\n",
    "h = home.loc[:'2021-12-10']\n",
    "h= h.astype(str).astype(int)\n",
    "\n",
    "\n",
    "merge=pd.merge(h,w, how='inner', left_index=True, right_index=True)\n",
    "merge[\"Home State\"] = merge[\"Home State\"].astype(str).astype(int)\n",
    "merge[\"Temperature\"] = merge[\"Temperature\"].astype(str).astype(float)\n",
    "\n",
    "merge = merge.drop('Conditon', 1)\n",
    "\n",
    "train, other = train_test_split(merge, test_size=0.2, random_state=0)\n",
    "test, validation = train_test_split(other, test_size=0.5, random_state=0)\n",
    "\n",
    "total = len(train)\n",
    "nb_pos = train['Home State'].sum()\n",
    "nb_neg = total - nb_pos\n",
    " \n",
    "home_true = train.loc[train['Home State'] == 1]\n",
    "home_false = train.loc[train['Home State'] == 0].sample(nb_pos)\n",
    "TrainBalanced= pd.concat((home_true, home_false))\n",
    "\n",
    "from sklearn.metrics import accuracy_score\n",
    "from sklearn.linear_model import LogisticRegression\n",
    "from sklearn.metrics import accuracy_score,precision_score,recall_score\n",
    "import numpy as np\n",
    "import pandas as pd\n",
    " \n",
    "X_train_unstandard = train.drop(columns='Home State')\n",
    "X_train=(X_train_unstandard-X_train_unstandard.mean())/X_train_unstandard.std()\n",
    "y_train = train['Home State']\n",
    "\n",
    "X_val_unstandard = validation.drop(columns='Home State')\n",
    "X_val= (X_val_unstandard - X_val_unstandard.mean())/X_val_unstandard.std()\n",
    "y_val = validation['Home State']\n",
    "\n",
    "X_test_unstandard = test.drop(columns='Home State')\n",
    "X_test= (X_test_unstandard - X_test_unstandard.mean())/X_test_unstandard.std()\n",
    "y_test = test['Home State']\n",
    "\n",
    "model = LogisticRegression(C=1e9).fit(X_train, y_train)\n",
    "\n",
    "y_train_predicted = model.predict(X_train)\n",
    "y_val_predicted = model.predict(X_val)\n",
    "y_test_predicted = model.predict(X_test)\n",
    "\n",
    "training_acc = (accuracy_score(y_train, y_train_predicted) + recall_score(y_train, y_train_predicted))/2\n",
    "weighted_acc = (accuracy_score(y_val, y_val_predicted) + recall_score(y_val, y_val_predicted))/2\n",
    "test_acc = (accuracy_score(y_test, y_test_predicted) + recall_score(y_test, y_test_predicted))/2\n",
    "\n",
    "print('======= Accuracy  table =======')\n",
    "print('Training recall is:    {}'.format(recall_score(y_train, y_train_predicted)))\n",
    "print('Validation recall is:  {}'.format(recall_score(y_val, y_val_predicted)))\n",
    "print('Validation accuracy is:  {}'.format(accuracy_score(y_val, y_val_predicted)))\n",
    "print('precision accuracy is:  {}'.format(precision_score(y_val, y_val_predicted)))\n",
    "print('training weighted accuracy is:  {}'.format(training_acc))\n",
    "print('validation weighted accuracy is:  {}'.format(weighted_acc))\n",
    "print('test weighted accuracy is:    {}'.format(test_acc))\n"
   ]
  },
  {
   "cell_type": "code",
   "execution_count": 115,
   "metadata": {},
   "outputs": [
    {
     "data": {
      "image/png": "[encoded data removed]",
      "text/plain": [
       "<Figure size 432x288 with 1 Axes>"
      ]
     },
     "metadata": {
      "needs_background": "light"
     },
     "output_type": "display_data"
    }
   ],
   "source": [
    "from sklearn.linear_model import LinearRegression as lr\n",
    "\n",
    "xlab = 'Temperature'\n",
    "ylab = 'Home State'\n",
    "\n",
    "X = merge[xlab].values.reshape(-1, 1)\n",
    "y = merge[ylab].values.reshape(-1, 1)\n",
    "linearModel = lr()\n",
    "linearModel.fit(X, y)\n",
    "\n",
    "# extracting model parameters\n",
    "a = linearModel.coef_[0][0]\n",
    "b = linearModel.intercept_[0]\n",
    "\n",
    "y_predicted = a * X + b  # calculating the line of best fit\n",
    "\n",
    "plt.plot(merge[xlab], merge[ylab], linestyle='', marker='o')  # plotting the raw data\n",
    "plt.plot(merge[xlab], y_predicted)  # plotting \n",
    "plt.xlabel('{}'.format(xlab))\n",
    "plt.ylabel('{}'.format(ylab))\n",
    "plt.show()\n"
   ]
  },
  {
   "cell_type": "code",
   "execution_count": 62,
   "metadata": {},
   "outputs": [],
   "source": [
    "merge = merge.apply(lambda x: pd.Series(x.dropna().values))\n"
   ]
  },
  {
   "cell_type": "code",
   "execution_count": 63,
   "metadata": {},
   "outputs": [
    {
     "data": {
      "text/html": [
       "<div>\n",
       "<style scoped>\n",
       "    .dataframe tbody tr th:only-of-type {\n",
       "        vertical-align: middle;\n",
       "    }\n",
       "\n",
       "    .dataframe tbody tr th {\n",
       "        vertical-align: top;\n",
       "    }\n",
       "\n",
       "    .dataframe thead th {\n",
       "        text-align: right;\n",
       "    }\n",
       "</style>\n",
       "<table border=\"1\" class=\"dataframe\">\n",
       "  <thead>\n",
       "    <tr style=\"text-align: right;\">\n",
       "      <th></th>\n",
       "      <th>Temperature</th>\n",
       "    </tr>\n",
       "    <tr>\n",
       "      <th>Timestamp</th>\n",
       "      <th></th>\n",
       "    </tr>\n",
       "  </thead>\n",
       "  <tbody>\n",
       "    <tr>\n",
       "      <th>2021-12-14 21:00:00</th>\n",
       "      <td>1.006050</td>\n",
       "    </tr>\n",
       "    <tr>\n",
       "      <th>2021-12-13 02:00:00</th>\n",
       "      <td>0.962467</td>\n",
       "    </tr>\n",
       "    <tr>\n",
       "      <th>2021-12-12 10:00:00</th>\n",
       "      <td>1.180379</td>\n",
       "    </tr>\n",
       "    <tr>\n",
       "      <th>2021-12-07 22:00:00</th>\n",
       "      <td>-0.718571</td>\n",
       "    </tr>\n",
       "    <tr>\n",
       "      <th>2021-12-14 13:00:00</th>\n",
       "      <td>1.336031</td>\n",
       "    </tr>\n",
       "    <tr>\n",
       "      <th>...</th>\n",
       "      <td>...</td>\n",
       "    </tr>\n",
       "    <tr>\n",
       "      <th>2021-12-09 19:00:00</th>\n",
       "      <td>-0.513111</td>\n",
       "    </tr>\n",
       "    <tr>\n",
       "      <th>2021-12-15 00:00:00</th>\n",
       "      <td>0.738329</td>\n",
       "    </tr>\n",
       "    <tr>\n",
       "      <th>2021-12-11 21:00:00</th>\n",
       "      <td>0.492399</td>\n",
       "    </tr>\n",
       "    <tr>\n",
       "      <th>2021-12-08 23:00:00</th>\n",
       "      <td>-0.671875</td>\n",
       "    </tr>\n",
       "    <tr>\n",
       "      <th>2021-12-14 04:00:00</th>\n",
       "      <td>0.479947</td>\n",
       "    </tr>\n",
       "  </tbody>\n",
       "</table>\n",
       "<p>173 rows × 1 columns</p>\n",
       "</div>"
      ],
      "text/plain": [
       "                     Temperature\n",
       "Timestamp                       \n",
       "2021-12-14 21:00:00     1.006050\n",
       "2021-12-13 02:00:00     0.962467\n",
       "2021-12-12 10:00:00     1.180379\n",
       "2021-12-07 22:00:00    -0.718571\n",
       "2021-12-14 13:00:00     1.336031\n",
       "...                          ...\n",
       "2021-12-09 19:00:00    -0.513111\n",
       "2021-12-15 00:00:00     0.738329\n",
       "2021-12-11 21:00:00     0.492399\n",
       "2021-12-08 23:00:00    -0.671875\n",
       "2021-12-14 04:00:00     0.479947\n",
       "\n",
       "[173 rows x 1 columns]"
      ]
     },
     "execution_count": 63,
     "metadata": {},
     "output_type": "execute_result"
    }
   ],
   "source": [
    "X_train"
   ]
  },
  {
   "cell_type": "code",
   "execution_count": 104,
   "metadata": {},
   "outputs": [
    {
     "name": "stdout",
     "output_type": "stream",
     "text": [
      "<class 'pandas.core.frame.DataFrame'>\n",
      "DatetimeIndex: 96 entries, 2021-12-07 00:00:00 to 2021-12-10 23:00:00\n",
      "Freq: H\n",
      "Data columns (total 3 columns):\n",
      " #   Column       Non-Null Count  Dtype  \n",
      "---  ------       --------------  -----  \n",
      " 0   Home State   96 non-null     int64  \n",
      " 1   Temperature  96 non-null     float64\n",
      " 2   Conditon     96 non-null     object \n",
      "dtypes: float64(1), int64(1), object(1)\n",
      "memory usage: 3.0+ KB\n"
     ]
    }
   ],
   "source": [
    "w = weather.loc[:'2021-12-10']\n",
    "h = home.loc[:'2021-12-10']\n",
    "h= h.astype(str).astype(int)\n",
    "\n",
    "hh = h.resample('H').sum()\n",
    "hh[\"Home State\"] = (hh[\"Home State\"] > 0).astype(int)\n",
    "ww = w.resample('H').pad()\n",
    "\n",
    "\n",
    "merge2=pd.merge(hh,ww, how='inner', left_index=True, right_index=True)\n",
    "merge2.info()"
   ]
  },
  {
   "cell_type": "code",
   "execution_count": 103,
   "metadata": {},
   "outputs": [
    {
     "name": "stdout",
     "output_type": "stream",
     "text": [
      "======= Accuracy  table =======\n",
      "Training recall is:    0.5\n",
      "Validation recall is:  0.5\n",
      "Validation accuracy is:  0.7\n",
      "precision accuracy is:  1.0\n",
      "training weighted accuracy is:  0.5526315789473684\n",
      "validation weighted accuracy is:  0.6\n",
      "test weighted accuracy is:    0.5142857142857142\n"
     ]
    }
   ],
   "source": [
    "#RANDOM BALANCED\n",
    "\n",
    "import warnings\n",
    "warnings.filterwarnings(\"ignore\")\n",
    "\n",
    "w = weather.loc[:'2021-12-10']\n",
    "h = home.loc[:'2021-12-10']\n",
    "h= h.astype(str).astype(int)\n",
    "\n",
    "hh = h.resample('H').sum()\n",
    "hh[\"Home State\"] = (hh[\"Home State\"] > 0).astype(int)\n",
    "ww = w.resample('H').pad()\n",
    "\n",
    "merge2=pd.merge(hh,ww, how='inner', left_index=True, right_index=True)\n",
    "merge2.head(20)\n",
    "\n",
    "merge2=pd.merge(hh,ww, how='inner', left_index=True, right_index=True)\n",
    "merge2[\"Home State\"] = merge2[\"Home State\"].astype(str).astype(int)\n",
    "merge2[\"Temperature\"] = merge2[\"Temperature\"].astype(str).astype(float)\n",
    "\n",
    "merge2 = merge2.replace({'Clear': 0}, regex=True)\n",
    "merge2 = merge2.replace({'Cloud': 1}, regex=True)\n",
    "merge2 = merge2.replace({'Rain': 2}, regex=True)\n",
    "\n",
    "merge2 = merge2.drop('Conditon', 1)\n",
    "\n",
    "train, other = train_test_split(merge2, test_size=0.2, random_state=0)\n",
    "test, validation = train_test_split(other, test_size=0.5, random_state=0)\n",
    "\n",
    "total = len(train)\n",
    "nb_pos = train['Home State'].sum()\n",
    "nb_neg = total - nb_pos\n",
    " \n",
    "home_true = train.loc[train['Home State'] == 1]\n",
    "home_false = train.loc[train['Home State'] == 0].sample(nb_pos)\n",
    "TrainBalanced= pd.concat((home_true, home_false))\n",
    " \n",
    "X_train_unstandard = train.drop(columns='Home State')\n",
    "X_train=(X_train_unstandard-X_train_unstandard.mean())/X_train_unstandard.std()\n",
    "y_train = train['Home State']\n",
    "\n",
    "X_val_unstandard = validation.drop(columns='Home State')\n",
    "X_val= (X_val_unstandard - X_val_unstandard.mean())/X_val_unstandard.std()\n",
    "y_val = validation['Home State']\n",
    "\n",
    "X_test_unstandard = test.drop(columns='Home State')\n",
    "X_test= (X_test_unstandard - X_test_unstandard.mean())/X_test_unstandard.std()\n",
    "y_test = test['Home State']\n",
    "\n",
    "model = LogisticRegression(C=1e9).fit(X_train, y_train)\n",
    "\n",
    "y_train_predicted = model.predict(X_train)\n",
    "y_val_predicted = model.predict(X_val)\n",
    "y_test_predicted = model.predict(X_test)\n",
    "\n",
    "training_acc = (accuracy_score(y_train, y_train_predicted) + recall_score(y_train, y_train_predicted))/2\n",
    "weighted_acc = (accuracy_score(y_val, y_val_predicted) + recall_score(y_val, y_val_predicted))/2\n",
    "test_acc = (accuracy_score(y_test, y_test_predicted) + recall_score(y_test, y_test_predicted))/2\n",
    "\n",
    "print('======= Accuracy  table =======')\n",
    "print('Training recall is:    {}'.format(recall_score(y_train, y_train_predicted)))\n",
    "print('Validation recall is:  {}'.format(recall_score(y_val, y_val_predicted)))\n",
    "print('Validation accuracy is:  {}'.format(accuracy_score(y_val, y_val_predicted)))\n",
    "print('precision accuracy is:  {}'.format(precision_score(y_val, y_val_predicted)))\n",
    "print('training weighted accuracy is:  {}'.format(training_acc))\n",
    "print('validation weighted accuracy is:  {}'.format(weighted_acc))\n",
    "print('test weighted accuracy is:    {}'.format(test_acc))\n"
   ]
  },
  {
   "cell_type": "code",
   "execution_count": 84,
   "metadata": {},
   "outputs": [
    {
     "data": {
      "text/plain": [
       "[Text(0.5, 0, 'Date'), Text(0, 0.5, 'Home')]"
      ]
     },
     "execution_count": 84,
     "metadata": {},
     "output_type": "execute_result"
    },
    {
     "data": {
      "image/png": "[encoded data removed]",
      "text/plain": [
       "<Figure size 1800x360 with 1 Axes>"
      ]
     },
     "metadata": {
      "needs_background": "light"
     },
     "output_type": "display_data"
    }
   ],
   "source": [
    "wplot = weather\n",
    "wplot['Temperature']=wplot['Temperature'].astype(str).astype(float)\n",
    "wplot['Temperature'].plot(figsize=(25,5)).set(xlabel='Date', ylabel='Home')\n"
   ]
  },
  {
   "cell_type": "code",
   "execution_count": 116,
   "metadata": {},
   "outputs": [
    {
     "data": {
      "text/plain": [
       "[Text(0.5, 0, 'Time (24h)'), Text(0, 0.5, 'Degrees (C)')]"
      ]
     },
     "execution_count": 116,
     "metadata": {},
     "output_type": "execute_result"
    },
    {
     "data": {
      "image/png": "[encoded data removed]",
      "text/plain": [
       "<Figure size 432x288 with 1 Axes>"
      ]
     },
     "metadata": {
      "needs_background": "light"
     },
     "output_type": "display_data"
    }
   ],
   "source": [
    "wplot.groupby(wplot.index.hour).mean()['Temperature'].plot(xticks=np.arange(24)).set(xlabel='Time (24h)', ylabel='Degrees (C)')"
   ]
  },
  {
   "cell_type": "code",
   "execution_count": 39,
   "metadata": {},
   "outputs": [
    {
     "data": {
      "text/plain": [
       "[Text(0.5, 0, 'Date'), Text(0, 0.5, 'Home')]"
      ]
     },
     "execution_count": 39,
     "metadata": {},
     "output_type": "execute_result"
    },
    {
     "data": {
      "image/png": "[encoded data removed]",
      "text/plain": [
       "<Figure size 1800x360 with 1 Axes>"
      ]
     },
     "metadata": {
      "needs_background": "light"
     },
     "output_type": "display_data"
    }
   ],
   "source": [
    "h = home.astype(float)\n",
    "h['Home State'].plot(figsize=(25,5)).set(xlabel='Date', ylabel='Home')"
   ]
  },
  {
   "cell_type": "code",
   "execution_count": 88,
   "metadata": {},
   "outputs": [
    {
     "name": "stdout",
     "output_type": "stream",
     "text": [
      "======= Accuracy  table =======\n",
      "Training recall is:    0.5555555555555556\n",
      "Validation recall is:  0.5\n",
      "Validation accuracy is:  0.7\n",
      "precision accuracy is:  1.0\n",
      "training weighted accuracy is:  0.5935672514619883\n",
      "validation weighted accuracy is:  0.6\n",
      "test weighted accuracy is:    0.5142857142857142\n"
     ]
    }
   ],
   "source": [
    "#SINGLE VECTOR UNBALNCED single\n",
    "\n",
    "import warnings\n",
    "from sklearn.svm import SVC\n",
    "\n",
    "warnings.filterwarnings(\"ignore\")\n",
    "\n",
    "merge2=pd.merge(hh,ww, how='inner', left_index=True, right_index=True)\n",
    "merge2[\"Home State\"] = merge2[\"Home State\"].astype(str).astype(int)\n",
    "merge2[\"Temperature\"] = merge2[\"Temperature\"].astype(str).astype(float)\n",
    "\n",
    "merge2 = merge2.replace({'Clear': 0}, regex=True)\n",
    "merge2 = merge2.replace({'Cloud': 1}, regex=True)\n",
    "merge2 = merge2.replace({'Rain': 2}, regex=True)\n",
    "\n",
    "# merge2 = merge2.drop('Conditon', 1)\n",
    "\n",
    "train, other = train_test_split(merge2, test_size=0.2, random_state=0)\n",
    "test, validation = train_test_split(other, test_size=0.5, random_state=0)\n",
    "\n",
    "X_train_unstandard = train.drop(columns='Home State')\n",
    "X_train=(X_train_unstandard-X_train_unstandard.mean())/X_train_unstandard.std()\n",
    "y_train = train['Home State']\n",
    "\n",
    "X_val_unstandard = validation.drop(columns='Home State')\n",
    "X_val= (X_val_unstandard - X_val_unstandard.mean())/X_val_unstandard.std()\n",
    "y_val = validation['Home State']\n",
    "\n",
    "X_test_unstandard = test.drop(columns='Home State')\n",
    "X_test= (X_test_unstandard - X_test_unstandard.mean())/X_test_unstandard.std()\n",
    "y_test = test['Home State']\n",
    "\n",
    "model = SVC(C=1, kernel = 'linear', gamma = 0.005) \n",
    "model = model.fit(X_train, y_train)\n",
    "\n",
    "ypred = model.predict(X_val)\n",
    "\n",
    "training_acc = (accuracy_score(y_train, y_train_predicted) + recall_score(y_train, y_train_predicted))/2\n",
    "weighted_acc = (accuracy_score(y_val, y_val_predicted) + recall_score(y_val, y_val_predicted))/2\n",
    "test_acc = (accuracy_score(y_test, y_test_predicted) + recall_score(y_test, y_test_predicted))/2\n",
    "\n",
    "print('======= Accuracy  table =======')\n",
    "print('Training recall is:    {}'.format(recall_score(y_train, y_train_predicted)))\n",
    "print('Validation recall is:  {}'.format(recall_score(y_val, y_val_predicted)))\n",
    "print('Validation accuracy is:  {}'.format(accuracy_score(y_val, y_val_predicted)))\n",
    "print('precision accuracy is:  {}'.format(precision_score(y_val, y_val_predicted)))\n",
    "print('training weighted accuracy is:  {}'.format(training_acc))\n",
    "print('validation weighted accuracy is:  {}'.format(weighted_acc))\n",
    "print('test weighted accuracy is:    {}'.format(test_acc))"
   ]
  },
  {
   "cell_type": "code",
   "execution_count": null,
   "metadata": {},
   "outputs": [],
   "source": []
  }
 ],
 "metadata": {
  "interpreter": {
   "hash": "c7c62420ff86a561ed33ec89fd08af436fe7848091022a6e6350c87e9b151b10"
  },
  "kernelspec": {
   "display_name": "Python 3.8.8 64-bit ('base': conda)",
   "language": "python",
   "name": "python3"
  },
  "language_info": {
   "codemirror_mode": {
    "name": "ipython",
    "version": 3
   },
   "file_extension": ".py",
   "mimetype": "text/x-python",
   "name": "python",
   "nbconvert_exporter": "python",
   "pygments_lexer": "ipython3",
   "version": "3.8.8"
  },
  "orig_nbformat": 4
 },
 "nbformat": 4,
 "nbformat_minor": 2
}
