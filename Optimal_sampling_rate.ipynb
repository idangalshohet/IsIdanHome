{
 "cells": [
  {
   "cell_type": "code",
   "execution_count": 273,
   "id": "ed23175c",
   "metadata": {},
   "outputs": [],
   "source": [
    "import gspread\n",
    "import pandas as pd \n",
    "from oauth2client.service_account import ServiceAccountCredentials\n",
    "import numpy\n",
    "import matplotlib\n",
    "import matplotlib.pyplot as plt\n",
    "import seaborn as sns\n",
    "\n",
    "credentials = {\n",
    "}\n",
    "\n",
    "scope = [\"https://spreadsheets.google.com/feeds\",'https://www.googleapis.com/auth/spreadsheets',\"https://www.googleapis.com/auth/drive.file\",\"https://www.googleapis.com/auth/drive\"]\n",
    "creds = ServiceAccountCredentials.from_json_keyfile_dict(credentials, scope)\n",
    "client = gspread.authorize(creds)"
   ]
  },
  {
   "cell_type": "code",
   "execution_count": 274,
   "id": "d935fc91",
   "metadata": {},
   "outputs": [
    {
     "name": "stdout",
     "output_type": "stream",
     "text": [
      "['2021', '12', '11', '18', '14', '1', '1639246465']\n"
     ]
    }
   ],
   "source": [
    "sheet = client.open(\"IoT Cloud\")\n",
    "\n",
    "home_sheet = sheet.worksheet(\"Home\")\n",
    "print(home_sheet.row_values(1))\n",
    "door_sheet = sheet.worksheet(\"Door\")\n",
    "weather_sheet = sheet.worksheet(\"Weather\")"
   ]
  },
  {
   "cell_type": "code",
   "execution_count": 248,
   "id": "15177a43",
   "metadata": {},
   "outputs": [],
   "source": [
    "# test = home_sheet.get_all_records()\n",
    "# print(test)"
   ]
  },
  {
   "cell_type": "code",
   "execution_count": 284,
   "id": "76dbab29",
   "metadata": {},
   "outputs": [
    {
     "name": "stdout",
     "output_type": "stream",
     "text": [
      "<class 'pandas.core.frame.DataFrame'>\n",
      "Int64Index: 5694 entries, 5693 to 0\n",
      "Data columns (total 7 columns):\n",
      " #   Column      Non-Null Count  Dtype \n",
      "---  ------      --------------  ----- \n",
      " 0   Year        5694 non-null   object\n",
      " 1   Month       5694 non-null   object\n",
      " 2   Day         5694 non-null   object\n",
      " 3   Hour        5694 non-null   object\n",
      " 4   Minute      5694 non-null   object\n",
      " 5   Home State  5694 non-null   object\n",
      " 6   Timestamp   5694 non-null   object\n",
      "dtypes: object(7)\n",
      "memory usage: 355.9+ KB\n"
     ]
    },
    {
     "data": {
      "text/html": [
       "<div>\n",
       "<style scoped>\n",
       "    .dataframe tbody tr th:only-of-type {\n",
       "        vertical-align: middle;\n",
       "    }\n",
       "\n",
       "    .dataframe tbody tr th {\n",
       "        vertical-align: top;\n",
       "    }\n",
       "\n",
       "    .dataframe thead th {\n",
       "        text-align: right;\n",
       "    }\n",
       "</style>\n",
       "<table border=\"1\" class=\"dataframe\">\n",
       "  <thead>\n",
       "    <tr style=\"text-align: right;\">\n",
       "      <th></th>\n",
       "      <th>Year</th>\n",
       "      <th>Month</th>\n",
       "      <th>Day</th>\n",
       "      <th>Hour</th>\n",
       "      <th>Minute</th>\n",
       "      <th>Home State</th>\n",
       "      <th>Timestamp</th>\n",
       "    </tr>\n",
       "  </thead>\n",
       "  <tbody>\n",
       "    <tr>\n",
       "      <th>5693</th>\n",
       "      <td>2021</td>\n",
       "      <td>12</td>\n",
       "      <td>7</td>\n",
       "      <td>0</td>\n",
       "      <td>1</td>\n",
       "      <td>1</td>\n",
       "      <td>1638835313</td>\n",
       "    </tr>\n",
       "    <tr>\n",
       "      <th>5692</th>\n",
       "      <td>2021</td>\n",
       "      <td>12</td>\n",
       "      <td>7</td>\n",
       "      <td>0</td>\n",
       "      <td>2</td>\n",
       "      <td>1</td>\n",
       "      <td>1638835378</td>\n",
       "    </tr>\n",
       "    <tr>\n",
       "      <th>5691</th>\n",
       "      <td>2021</td>\n",
       "      <td>12</td>\n",
       "      <td>7</td>\n",
       "      <td>0</td>\n",
       "      <td>4</td>\n",
       "      <td>0</td>\n",
       "      <td>1638835446</td>\n",
       "    </tr>\n",
       "    <tr>\n",
       "      <th>5690</th>\n",
       "      <td>2021</td>\n",
       "      <td>12</td>\n",
       "      <td>7</td>\n",
       "      <td>0</td>\n",
       "      <td>5</td>\n",
       "      <td>1</td>\n",
       "      <td>1638835515</td>\n",
       "    </tr>\n",
       "    <tr>\n",
       "      <th>5689</th>\n",
       "      <td>2021</td>\n",
       "      <td>12</td>\n",
       "      <td>7</td>\n",
       "      <td>0</td>\n",
       "      <td>6</td>\n",
       "      <td>0</td>\n",
       "      <td>1638835581</td>\n",
       "    </tr>\n",
       "    <tr>\n",
       "      <th>5688</th>\n",
       "      <td>2021</td>\n",
       "      <td>12</td>\n",
       "      <td>7</td>\n",
       "      <td>0</td>\n",
       "      <td>7</td>\n",
       "      <td>1</td>\n",
       "      <td>1638835645</td>\n",
       "    </tr>\n",
       "    <tr>\n",
       "      <th>5687</th>\n",
       "      <td>2021</td>\n",
       "      <td>12</td>\n",
       "      <td>7</td>\n",
       "      <td>0</td>\n",
       "      <td>8</td>\n",
       "      <td>1</td>\n",
       "      <td>1638835710</td>\n",
       "    </tr>\n",
       "    <tr>\n",
       "      <th>5686</th>\n",
       "      <td>2021</td>\n",
       "      <td>12</td>\n",
       "      <td>7</td>\n",
       "      <td>0</td>\n",
       "      <td>9</td>\n",
       "      <td>1</td>\n",
       "      <td>1638835777</td>\n",
       "    </tr>\n",
       "    <tr>\n",
       "      <th>5685</th>\n",
       "      <td>2021</td>\n",
       "      <td>12</td>\n",
       "      <td>7</td>\n",
       "      <td>0</td>\n",
       "      <td>10</td>\n",
       "      <td>0</td>\n",
       "      <td>1638835843</td>\n",
       "    </tr>\n",
       "    <tr>\n",
       "      <th>5684</th>\n",
       "      <td>2021</td>\n",
       "      <td>12</td>\n",
       "      <td>7</td>\n",
       "      <td>0</td>\n",
       "      <td>11</td>\n",
       "      <td>0</td>\n",
       "      <td>1638835910</td>\n",
       "    </tr>\n",
       "  </tbody>\n",
       "</table>\n",
       "</div>"
      ],
      "text/plain": [
       "      Year Month Day Hour Minute Home State   Timestamp\n",
       "5693  2021    12   7    0      1          1  1638835313\n",
       "5692  2021    12   7    0      2          1  1638835378\n",
       "5691  2021    12   7    0      4          0  1638835446\n",
       "5690  2021    12   7    0      5          1  1638835515\n",
       "5689  2021    12   7    0      6          0  1638835581\n",
       "5688  2021    12   7    0      7          1  1638835645\n",
       "5687  2021    12   7    0      8          1  1638835710\n",
       "5686  2021    12   7    0      9          1  1638835777\n",
       "5685  2021    12   7    0     10          0  1638835843\n",
       "5684  2021    12   7    0     11          0  1638835910"
      ]
     },
     "execution_count": 284,
     "metadata": {},
     "output_type": "execute_result"
    }
   ],
   "source": [
    "home = pd.DataFrame(home_sheet.get_all_values())\n",
    "home.columns = [\"Year\", \"Month\", \"Day\", \"Hour\", \"Minute\", \"Home State\", \"Timestamp\"]\n",
    "home = home.sort_values(by='Timestamp')\n",
    "home.info()\n",
    "home.head(10)"
   ]
  },
  {
   "cell_type": "code",
   "execution_count": 288,
   "id": "950a5282",
   "metadata": {},
   "outputs": [
    {
     "name": "stdout",
     "output_type": "stream",
     "text": [
      " start  2021-12-07 00:01:53\n"
     ]
    },
    {
     "data": {
      "text/plain": [
       "2021-12-07 00:01:53    2021\n",
       "2021-12-07 00:02:53    2021\n",
       "2021-12-07 00:03:53    2021\n",
       "2021-12-07 00:04:53    2021\n",
       "2021-12-07 00:05:53    2021\n",
       "2021-12-10 22:56:53    2021\n",
       "2021-12-10 22:57:53    2021\n",
       "2021-12-10 22:58:53    2021\n",
       "2021-12-10 22:59:53    2021\n",
       "2021-12-10 23:00:53    2021\n",
       "Name: Year, dtype: object"
      ]
     },
     "execution_count": 288,
     "metadata": {},
     "output_type": "execute_result"
    }
   ],
   "source": [
    "import time\n",
    "import numpy as np\n",
    "\n",
    "home = pd.DataFrame(home_sheet.get_all_values())\n",
    "home.columns = [\"Year\", \"Month\", \"Day\", \"Hour\", \"Minute\", \"Home State\", \"Timestamp\"]\n",
    "home = home.sort_values(by='Timestamp')\n",
    "\n",
    "print(' start ', time.strftime('%Y-%m-%d %H:%M:%S', time.localtime(int(home['Timestamp'].iloc[0]))))\n",
    "\n",
    "time_index = pd.date_range('2021-12-07 00:01:53', periods=len(home),  freq='min')  \n",
    "time_index = pd.DatetimeIndex(time_index)\n",
    "home = home.set_index(time_index)\n",
    "home = home.drop(['Timestamp'], axis=1)\n",
    "home.iloc[np.r_[0:5,-5:0]].iloc[:,0]"
   ]
  },
  {
   "cell_type": "code",
   "execution_count": 446,
   "id": "eec4ad1f",
   "metadata": {},
   "outputs": [
    {
     "name": "stdout",
     "output_type": "stream",
     "text": [
      " start  2021-12-07 00:01:53\n"
     ]
    }
   ],
   "source": [
    "import time\n",
    "import numpy as np\n",
    "\n",
    "home = pd.DataFrame(home_sheet.get_all_values())\n",
    "home.columns = [\"Year\", \"Month\", \"Day\", \"Hour\", \"Minute\", \"Home State\", \"Timestamp\"]\n",
    "home = home.sort_values(by='Timestamp')\n",
    "\n",
    "print(' start ', time.strftime('%Y-%m-%d %H:%M:%S', time.localtime(int(home['Timestamp'].iloc[0]))))\n",
    "\n",
    "home['Timestamp'] = pd.to_datetime(home['Timestamp'], unit ='s') # convert column to datetime object\n",
    "home['Timestamp'] = home['Timestamp'].dt.floor('min')\n",
    "home = home.set_index(home['Timestamp'])\n",
    "home = home.drop(columns=[\"Timestamp\"])\n",
    "\n",
    "# time_index = pd.date_range('2021-12-07 00:01:53', periods=len(home),  freq='min')  \n",
    "# time_index = pd.DatetimeIndex(time_index)\n",
    "# home = home.set_index(time_index)\n",
    "# home = home.drop(['Timestamp'], axis=1)\n",
    "# home.iloc[np.r_[0:5,-5:0]].iloc[:,0]"
   ]
  },
  {
   "cell_type": "code",
   "execution_count": 334,
   "id": "02ac2abc",
   "metadata": {},
   "outputs": [],
   "source": [
    "home = home.drop(columns=[\"Year\", \"Month\", \"Day\", \"Hour\", \"Minute\"])\n"
   ]
  },
  {
   "cell_type": "code",
   "execution_count": 368,
   "id": "3c4b7e33",
   "metadata": {},
   "outputs": [
    {
     "data": {
      "text/html": [
       "<div>\n",
       "<style scoped>\n",
       "    .dataframe tbody tr th:only-of-type {\n",
       "        vertical-align: middle;\n",
       "    }\n",
       "\n",
       "    .dataframe tbody tr th {\n",
       "        vertical-align: top;\n",
       "    }\n",
       "\n",
       "    .dataframe thead th {\n",
       "        text-align: right;\n",
       "    }\n",
       "</style>\n",
       "<table border=\"1\" class=\"dataframe\">\n",
       "  <thead>\n",
       "    <tr style=\"text-align: right;\">\n",
       "      <th></th>\n",
       "      <th>Year</th>\n",
       "      <th>Month</th>\n",
       "      <th>Day</th>\n",
       "      <th>Hour</th>\n",
       "      <th>Minute</th>\n",
       "      <th>Home State</th>\n",
       "    </tr>\n",
       "    <tr>\n",
       "      <th>Timestamp</th>\n",
       "      <th></th>\n",
       "      <th></th>\n",
       "      <th></th>\n",
       "      <th></th>\n",
       "      <th></th>\n",
       "      <th></th>\n",
       "    </tr>\n",
       "  </thead>\n",
       "  <tbody>\n",
       "    <tr>\n",
       "      <th>2021-12-11 19:30:00</th>\n",
       "      <td>2021</td>\n",
       "      <td>12</td>\n",
       "      <td>11</td>\n",
       "      <td>19</td>\n",
       "      <td>30</td>\n",
       "      <td>0</td>\n",
       "    </tr>\n",
       "    <tr>\n",
       "      <th>2021-12-11 19:31:00</th>\n",
       "      <td>2021</td>\n",
       "      <td>12</td>\n",
       "      <td>11</td>\n",
       "      <td>19</td>\n",
       "      <td>31</td>\n",
       "      <td>0</td>\n",
       "    </tr>\n",
       "    <tr>\n",
       "      <th>2021-12-11 19:32:00</th>\n",
       "      <td>2021</td>\n",
       "      <td>12</td>\n",
       "      <td>11</td>\n",
       "      <td>19</td>\n",
       "      <td>32</td>\n",
       "      <td>1</td>\n",
       "    </tr>\n",
       "    <tr>\n",
       "      <th>2021-12-11 19:33:00</th>\n",
       "      <td>2021</td>\n",
       "      <td>12</td>\n",
       "      <td>11</td>\n",
       "      <td>19</td>\n",
       "      <td>33</td>\n",
       "      <td>0</td>\n",
       "    </tr>\n",
       "    <tr>\n",
       "      <th>2021-12-11 19:35:00</th>\n",
       "      <td>2021</td>\n",
       "      <td>12</td>\n",
       "      <td>11</td>\n",
       "      <td>19</td>\n",
       "      <td>35</td>\n",
       "      <td>1</td>\n",
       "    </tr>\n",
       "  </tbody>\n",
       "</table>\n",
       "</div>"
      ],
      "text/plain": [
       "                     Year Month Day Hour Minute Home State\n",
       "Timestamp                                                 \n",
       "2021-12-11 19:30:00  2021    12  11   19     30          0\n",
       "2021-12-11 19:31:00  2021    12  11   19     31          0\n",
       "2021-12-11 19:32:00  2021    12  11   19     32          1\n",
       "2021-12-11 19:33:00  2021    12  11   19     33          0\n",
       "2021-12-11 19:35:00  2021    12  11   19     35          1"
      ]
     },
     "execution_count": 368,
     "metadata": {},
     "output_type": "execute_result"
    }
   ],
   "source": [
    "home.tail()\n",
    "\n"
   ]
  },
  {
   "cell_type": "code",
   "execution_count": 452,
   "id": "8b1b6dac",
   "metadata": {},
   "outputs": [
    {
     "data": {
      "text/plain": [
       "[Text(0.5, 0, 'Date'), Text(0, 0.5, 'Home')]"
      ]
     },
     "execution_count": 452,
     "metadata": {},
     "output_type": "execute_result"
    },
    {
     "data": {
      "image/png": "[encoded data removed]",
      "text/plain": [
       "<Figure size 1800x360 with 1 Axes>"
      ]
     },
     "metadata": {
      "needs_background": "light"
     },
     "output_type": "display_data"
    }
   ],
   "source": [
    "home = home.astype(float)\n",
    "home['Home State'].plot(figsize=(25,5)).set(xlabel='Date', ylabel='Home')"
   ]
  },
  {
   "cell_type": "code",
   "execution_count": 453,
   "id": "72896585",
   "metadata": {},
   "outputs": [
    {
     "data": {
      "text/plain": [
       "<AxesSubplot:xlabel='Timestamp'>"
      ]
     },
     "execution_count": 453,
     "metadata": {},
     "output_type": "execute_result"
    },
    {
     "data": {
      "image/png": "[encoded data removed]",
      "text/plain": [
       "<Figure size 1800x360 with 1 Axes>"
      ]
     },
     "metadata": {
      "needs_background": "light"
     },
     "output_type": "display_data"
    }
   ],
   "source": [
    "home['Home State'].resample(rule = 'H').mean().plot(figsize=(25,5))"
   ]
  },
  {
   "cell_type": "code",
   "execution_count": 454,
   "id": "ae063df4",
   "metadata": {},
   "outputs": [
    {
     "data": {
      "text/plain": [
       "[Text(0.5, 0, 'Daily Hours'), Text(0, 0.5, 'How Home')]"
      ]
     },
     "execution_count": 454,
     "metadata": {},
     "output_type": "execute_result"
    },
    {
     "data": {
      "image/png": "[encoded data removed]",
      "text/plain": [
       "<Figure size 432x288 with 1 Axes>"
      ]
     },
     "metadata": {
      "needs_background": "light"
     },
     "output_type": "display_data"
    }
   ],
   "source": [
    "home.groupby(home.index.hour).mean()['Home State'].plot(xticks=np.arange(24)).set(xlabel='Daily Hours', ylabel='How Home')"
   ]
  },
  {
   "cell_type": "code",
   "execution_count": null,
   "id": "a09fe529",
   "metadata": {},
   "outputs": [],
   "source": []
  },
  {
   "cell_type": "code",
   "execution_count": 455,
   "id": "cc89ab98",
   "metadata": {},
   "outputs": [
    {
     "name": "stdout",
     "output_type": "stream",
     "text": [
      "<class 'pandas.core.frame.DataFrame'>\n",
      "DatetimeIndex: 964 entries, 2021-12-07 03:00:00 to 2021-12-10 07:00:00\n",
      "Data columns (total 6 columns):\n",
      " #   Column      Non-Null Count  Dtype  \n",
      "---  ------      --------------  -----  \n",
      " 0   Year        855 non-null    float64\n",
      " 1   Month       855 non-null    float64\n",
      " 2   Day         855 non-null    float64\n",
      " 3   Hour        855 non-null    float64\n",
      " 4   Minute      855 non-null    float64\n",
      " 5   Home State  855 non-null    float64\n",
      "dtypes: float64(6)\n",
      "memory usage: 52.7 KB\n"
     ]
    }
   ],
   "source": [
    "import datetime\n",
    "index_date = pd.date_range('2021-12-7', '2021-12-10')\n",
    "index_date = pd.Series(index_date)\n",
    "index_time = pd.date_range('03:00', '07:00', freq='min')\n",
    "index_time = pd.Series(index_time.time)\n",
    "\n",
    "index = index_date.apply(\n",
    "    lambda d: index_time.apply(\n",
    "        lambda t: datetime.datetime.combine(d, t)\n",
    "        )\n",
    "    ).unstack().sort_values().reset_index(drop=True)\n",
    "\n",
    "home_evening = home.reindex(index=index)\n",
    "\n",
    "home_evening.info()"
   ]
  },
  {
   "cell_type": "code",
   "execution_count": 449,
   "id": "2af1d7a6",
   "metadata": {},
   "outputs": [
    {
     "data": {
      "text/html": [
       "<div>\n",
       "<style scoped>\n",
       "    .dataframe tbody tr th:only-of-type {\n",
       "        vertical-align: middle;\n",
       "    }\n",
       "\n",
       "    .dataframe tbody tr th {\n",
       "        vertical-align: top;\n",
       "    }\n",
       "\n",
       "    .dataframe thead th {\n",
       "        text-align: right;\n",
       "    }\n",
       "</style>\n",
       "<table border=\"1\" class=\"dataframe\">\n",
       "  <thead>\n",
       "    <tr style=\"text-align: right;\">\n",
       "      <th></th>\n",
       "      <th>Year</th>\n",
       "      <th>Month</th>\n",
       "      <th>Day</th>\n",
       "      <th>Hour</th>\n",
       "      <th>Minute</th>\n",
       "      <th>Home State</th>\n",
       "    </tr>\n",
       "  </thead>\n",
       "  <tbody>\n",
       "    <tr>\n",
       "      <th>2021-12-10 06:56:00</th>\n",
       "      <td>2021</td>\n",
       "      <td>12</td>\n",
       "      <td>10</td>\n",
       "      <td>6</td>\n",
       "      <td>56</td>\n",
       "      <td>1</td>\n",
       "    </tr>\n",
       "    <tr>\n",
       "      <th>2021-12-10 06:57:00</th>\n",
       "      <td>2021</td>\n",
       "      <td>12</td>\n",
       "      <td>10</td>\n",
       "      <td>6</td>\n",
       "      <td>57</td>\n",
       "      <td>1</td>\n",
       "    </tr>\n",
       "    <tr>\n",
       "      <th>2021-12-10 06:58:00</th>\n",
       "      <td>2021</td>\n",
       "      <td>12</td>\n",
       "      <td>10</td>\n",
       "      <td>6</td>\n",
       "      <td>58</td>\n",
       "      <td>1</td>\n",
       "    </tr>\n",
       "    <tr>\n",
       "      <th>2021-12-10 06:59:00</th>\n",
       "      <td>2021</td>\n",
       "      <td>12</td>\n",
       "      <td>10</td>\n",
       "      <td>6</td>\n",
       "      <td>59</td>\n",
       "      <td>1</td>\n",
       "    </tr>\n",
       "    <tr>\n",
       "      <th>2021-12-10 07:00:00</th>\n",
       "      <td>2021</td>\n",
       "      <td>12</td>\n",
       "      <td>10</td>\n",
       "      <td>7</td>\n",
       "      <td>0</td>\n",
       "      <td>1</td>\n",
       "    </tr>\n",
       "  </tbody>\n",
       "</table>\n",
       "</div>"
      ],
      "text/plain": [
       "                     Year Month Day Hour Minute Home State\n",
       "2021-12-10 06:56:00  2021    12  10    6     56          1\n",
       "2021-12-10 06:57:00  2021    12  10    6     57          1\n",
       "2021-12-10 06:58:00  2021    12  10    6     58          1\n",
       "2021-12-10 06:59:00  2021    12  10    6     59          1\n",
       "2021-12-10 07:00:00  2021    12  10    7      0          1"
      ]
     },
     "execution_count": 449,
     "metadata": {},
     "output_type": "execute_result"
    }
   ],
   "source": [
    "home_evening = home_evening.dropna()\n",
    "home_evening.tail()\n"
   ]
  },
  {
   "cell_type": "code",
   "execution_count": 456,
   "id": "14f1fcb2",
   "metadata": {},
   "outputs": [
    {
     "data": {
      "text/plain": [
       "[Text(0.5, 0, 'Daily Hours'), Text(0, 0.5, 'How Home')]"
      ]
     },
     "execution_count": 456,
     "metadata": {},
     "output_type": "execute_result"
    },
    {
     "data": {
      "image/png": "[encoded data removed]",
      "text/plain": [
       "<Figure size 432x288 with 1 Axes>"
      ]
     },
     "metadata": {
      "needs_background": "light"
     },
     "output_type": "display_data"
    }
   ],
   "source": [
    "home_evening.groupby(home_evening.index.hour).mean()['Home State'].plot(xticks=np.arange(24)).set(xlabel='Daily Hours', ylabel='How Home')"
   ]
  },
  {
   "cell_type": "code",
   "execution_count": 465,
   "id": "d274cba3",
   "metadata": {},
   "outputs": [
    {
     "name": "stdout",
     "output_type": "stream",
     "text": [
      "8\n"
     ]
    }
   ],
   "source": [
    "#find maximum number of consequative 0\n",
    "df = home_evening\n",
    "\n",
    "df['counter'] = df['Home State'].diff().ne(0).cumsum()\n",
    "df2 = df.groupby('counter')['Home State'].min().to_frame(name='value').join(\n",
    "df.groupby('counter')['Home State'].count().rename('number'))\n",
    "max_consec0 = df2[df2['value']==0]['number'].tolist()\n",
    "max_consec1 = df2[df2['value']==1]['number'].tolist()\n",
    "\n",
    "\n",
    "print(max(max_consec0))"
   ]
  },
  {
   "cell_type": "code",
   "execution_count": 444,
   "id": "e05aa171",
   "metadata": {},
   "outputs": [
    {
     "data": {
      "text/html": [
       "<div>\n",
       "<style scoped>\n",
       "    .dataframe tbody tr th:only-of-type {\n",
       "        vertical-align: middle;\n",
       "    }\n",
       "\n",
       "    .dataframe tbody tr th {\n",
       "        vertical-align: top;\n",
       "    }\n",
       "\n",
       "    .dataframe thead th {\n",
       "        text-align: right;\n",
       "    }\n",
       "</style>\n",
       "<table border=\"1\" class=\"dataframe\">\n",
       "  <thead>\n",
       "    <tr style=\"text-align: right;\">\n",
       "      <th></th>\n",
       "      <th>Year</th>\n",
       "      <th>Month</th>\n",
       "      <th>Day</th>\n",
       "      <th>Hour</th>\n",
       "      <th>Minute</th>\n",
       "      <th>Home State</th>\n",
       "      <th>counter</th>\n",
       "    </tr>\n",
       "  </thead>\n",
       "  <tbody>\n",
       "    <tr>\n",
       "      <th>2021-12-07 03:00:00</th>\n",
       "      <td>2021.0</td>\n",
       "      <td>12.0</td>\n",
       "      <td>7.0</td>\n",
       "      <td>3.0</td>\n",
       "      <td>0.0</td>\n",
       "      <td>0.0</td>\n",
       "      <td>1</td>\n",
       "    </tr>\n",
       "    <tr>\n",
       "      <th>2021-12-07 03:02:00</th>\n",
       "      <td>2021.0</td>\n",
       "      <td>12.0</td>\n",
       "      <td>7.0</td>\n",
       "      <td>3.0</td>\n",
       "      <td>1.0</td>\n",
       "      <td>0.0</td>\n",
       "      <td>1</td>\n",
       "    </tr>\n",
       "    <tr>\n",
       "      <th>2021-12-07 03:03:00</th>\n",
       "      <td>2021.0</td>\n",
       "      <td>12.0</td>\n",
       "      <td>7.0</td>\n",
       "      <td>3.0</td>\n",
       "      <td>3.0</td>\n",
       "      <td>0.0</td>\n",
       "      <td>1</td>\n",
       "    </tr>\n",
       "    <tr>\n",
       "      <th>2021-12-07 03:04:00</th>\n",
       "      <td>2021.0</td>\n",
       "      <td>12.0</td>\n",
       "      <td>7.0</td>\n",
       "      <td>3.0</td>\n",
       "      <td>4.0</td>\n",
       "      <td>0.0</td>\n",
       "      <td>1</td>\n",
       "    </tr>\n",
       "    <tr>\n",
       "      <th>2021-12-07 03:05:00</th>\n",
       "      <td>2021.0</td>\n",
       "      <td>12.0</td>\n",
       "      <td>7.0</td>\n",
       "      <td>3.0</td>\n",
       "      <td>5.0</td>\n",
       "      <td>1.0</td>\n",
       "      <td>2</td>\n",
       "    </tr>\n",
       "  </tbody>\n",
       "</table>\n",
       "</div>"
      ],
      "text/plain": [
       "                       Year  Month  Day  Hour  Minute  Home State  counter\n",
       "2021-12-07 03:00:00  2021.0   12.0  7.0   3.0     0.0         0.0        1\n",
       "2021-12-07 03:02:00  2021.0   12.0  7.0   3.0     1.0         0.0        1\n",
       "2021-12-07 03:03:00  2021.0   12.0  7.0   3.0     3.0         0.0        1\n",
       "2021-12-07 03:04:00  2021.0   12.0  7.0   3.0     4.0         0.0        1\n",
       "2021-12-07 03:05:00  2021.0   12.0  7.0   3.0     5.0         1.0        2"
      ]
     },
     "execution_count": 444,
     "metadata": {},
     "output_type": "execute_result"
    }
   ],
   "source": [
    "home_evening.head()"
   ]
  }
 ],
 "metadata": {
  "interpreter": {
   "hash": "c7c62420ff86a561ed33ec89fd08af436fe7848091022a6e6350c87e9b151b10"
  },
  "kernelspec": {
   "display_name": "Python 3.8.8 64-bit ('base': conda)",
   "language": "python",
   "name": "python3"
  },
  "language_info": {
   "codemirror_mode": {
    "name": "ipython",
    "version": 3
   },
   "file_extension": ".py",
   "mimetype": "text/x-python",
   "name": "python",
   "nbconvert_exporter": "python",
   "pygments_lexer": "ipython3",
   "version": "3.8.8"
  }
 },
 "nbformat": 4,
 "nbformat_minor": 5
}
